{
 "cells": [
  {
   "cell_type": "code",
   "execution_count": 1,
   "metadata": {},
   "outputs": [],
   "source": [
    "import spotipy\n",
    "import os\n",
    "import pandas as pd"
   ]
  },
  {
   "cell_type": "code",
   "execution_count": 2,
   "metadata": {},
   "outputs": [],
   "source": [
    "os.environ['SPOTIPY_CLIENT_ID'] = '00b7317977ad4c0d971af8274f1aa790'\n",
    "os.environ['SPOTIPY_CLIENT_SECRET'] = '6efbf45fe72d435f9739d0c0f4c26db5'\n",
    "os.environ['SPOTIPY_REDIRECT_URI'] = 'https://360i.com/'\n",
    "base_url = 'https://api.spotify.com'\n",
    "scope = 'playlist-read-private'\n",
    "# spotify:playlist:\n",
    "rap_caviar = '37i9dQZF1DX0XUsuxWHRQd'\n",
    "token = spotipy.util.prompt_for_user_token('Puffer Fish',\n",
    "                           scope=scope,\n",
    "                           client_id=os.environ['SPOTIPY_CLIENT_ID'],\n",
    "                           client_secret=os.environ['SPOTIPY_CLIENT_SECRET'],\n",
    "                           redirect_uri=os.environ['SPOTIPY_REDIRECT_URI'])\n",
    "spotify = spotipy.Spotify(auth=token)"
   ]
  },
  {
   "cell_type": "markdown",
   "metadata": {},
   "source": [
    "The items to retreive are:\n",
    "- Track:\n",
    "    - name\n",
    "    - popularity\n",
    "    - duration_ms\n",
    "    - artist_name\n",
    "\n",
    "- Artist:\n",
    "    - id\n",
    "    - name\n",
    "    - popularity\n",
    "    - followers\n",
    "\n",
    "\n"
   ]
  },
  {
   "cell_type": "code",
   "execution_count": 3,
   "metadata": {},
   "outputs": [],
   "source": [
    "# Retreiving the above mentioned items from the rap_caviar playlist\n",
    "playlist = spotify.playlist_tracks(playlist_id= rap_caviar,fields='items(track(id,name,popularity,duration_ms,artists(name,id)))')"
   ]
  },
  {
   "cell_type": "code",
   "execution_count": 4,
   "metadata": {},
   "outputs": [],
   "source": [
    "# Turning it into a dataframe\n",
    "track =pd.DataFrame()\n",
    "for song in playlist['items']:\n",
    "    track = track.append(song['track'],ignore_index=True)"
   ]
  },
  {
   "cell_type": "code",
   "execution_count": 5,
   "metadata": {},
   "outputs": [
    {
     "data": {
      "text/html": [
       "<div>\n",
       "<style scoped>\n",
       "    .dataframe tbody tr th:only-of-type {\n",
       "        vertical-align: middle;\n",
       "    }\n",
       "\n",
       "    .dataframe tbody tr th {\n",
       "        vertical-align: top;\n",
       "    }\n",
       "\n",
       "    .dataframe thead th {\n",
       "        text-align: right;\n",
       "    }\n",
       "</style>\n",
       "<table border=\"1\" class=\"dataframe\">\n",
       "  <thead>\n",
       "    <tr style=\"text-align: right;\">\n",
       "      <th></th>\n",
       "      <th>artists</th>\n",
       "      <th>duration_ms</th>\n",
       "      <th>id</th>\n",
       "      <th>name</th>\n",
       "      <th>popularity</th>\n",
       "    </tr>\n",
       "  </thead>\n",
       "  <tbody>\n",
       "    <tr>\n",
       "      <th>0</th>\n",
       "      <td>[{'id': '4Ga1P7PMIsmqEZqhYZQgDo', 'name': 'Lil...</td>\n",
       "      <td>190344.0</td>\n",
       "      <td>21AJQhGZpujjZQXByZAXpr</td>\n",
       "      <td>REPEAT IT (with Gunna)</td>\n",
       "      <td>71.0</td>\n",
       "    </tr>\n",
       "    <tr>\n",
       "      <th>1</th>\n",
       "      <td>[{'id': '6EPlBSH2RSiettczlz7ihV', 'name': 'Sle...</td>\n",
       "      <td>123986.0</td>\n",
       "      <td>4XvcHTUfIlWfyJTRG0aqlo</td>\n",
       "      <td>2055</td>\n",
       "      <td>84.0</td>\n",
       "    </tr>\n",
       "    <tr>\n",
       "      <th>2</th>\n",
       "      <td>[{'id': '1tG7s7S4sq2eFFW0QZyLbm', 'name': 'She...</td>\n",
       "      <td>180805.0</td>\n",
       "      <td>3Ho13bRS28xEvGvgW4LOFM</td>\n",
       "      <td>On Go (feat. Polo G)</td>\n",
       "      <td>74.0</td>\n",
       "    </tr>\n",
       "    <tr>\n",
       "      <th>3</th>\n",
       "      <td>[{'id': '6jeg7JBX9J9097esK752iR', 'name': 'Smi...</td>\n",
       "      <td>153406.0</td>\n",
       "      <td>3yaYgjEFkRw3PVjW9mV1TO</td>\n",
       "      <td>Over The Top (feat. Drake)</td>\n",
       "      <td>82.0</td>\n",
       "    </tr>\n",
       "    <tr>\n",
       "      <th>4</th>\n",
       "      <td>[{'id': '7jVv8c5Fj3E9VhNjxT4snq', 'name': 'Lil...</td>\n",
       "      <td>212000.0</td>\n",
       "      <td>27NovPIUIRrOZoCHxABJwK</td>\n",
       "      <td>INDUSTRY BABY (feat. Jack Harlow)</td>\n",
       "      <td>95.0</td>\n",
       "    </tr>\n",
       "  </tbody>\n",
       "</table>\n",
       "</div>"
      ],
      "text/plain": [
       "                                             artists  duration_ms  \\\n",
       "0  [{'id': '4Ga1P7PMIsmqEZqhYZQgDo', 'name': 'Lil...     190344.0   \n",
       "1  [{'id': '6EPlBSH2RSiettczlz7ihV', 'name': 'Sle...     123986.0   \n",
       "2  [{'id': '1tG7s7S4sq2eFFW0QZyLbm', 'name': 'She...     180805.0   \n",
       "3  [{'id': '6jeg7JBX9J9097esK752iR', 'name': 'Smi...     153406.0   \n",
       "4  [{'id': '7jVv8c5Fj3E9VhNjxT4snq', 'name': 'Lil...     212000.0   \n",
       "\n",
       "                       id                               name  popularity  \n",
       "0  21AJQhGZpujjZQXByZAXpr             REPEAT IT (with Gunna)        71.0  \n",
       "1  4XvcHTUfIlWfyJTRG0aqlo                               2055        84.0  \n",
       "2  3Ho13bRS28xEvGvgW4LOFM               On Go (feat. Polo G)        74.0  \n",
       "3  3yaYgjEFkRw3PVjW9mV1TO         Over The Top (feat. Drake)        82.0  \n",
       "4  27NovPIUIRrOZoCHxABJwK  INDUSTRY BABY (feat. Jack Harlow)        95.0  "
      ]
     },
     "execution_count": 5,
     "metadata": {},
     "output_type": "execute_result"
    }
   ],
   "source": [
    "track.head()"
   ]
  },
  {
   "cell_type": "code",
   "execution_count": 6,
   "metadata": {},
   "outputs": [
    {
     "data": {
      "text/html": [
       "<div>\n",
       "<style scoped>\n",
       "    .dataframe tbody tr th:only-of-type {\n",
       "        vertical-align: middle;\n",
       "    }\n",
       "\n",
       "    .dataframe tbody tr th {\n",
       "        vertical-align: top;\n",
       "    }\n",
       "\n",
       "    .dataframe thead th {\n",
       "        text-align: right;\n",
       "    }\n",
       "</style>\n",
       "<table border=\"1\" class=\"dataframe\">\n",
       "  <thead>\n",
       "    <tr style=\"text-align: right;\">\n",
       "      <th></th>\n",
       "      <th>artists</th>\n",
       "      <th>duration_ms</th>\n",
       "      <th>id</th>\n",
       "      <th>name</th>\n",
       "      <th>popularity</th>\n",
       "      <th>artist_name</th>\n",
       "    </tr>\n",
       "  </thead>\n",
       "  <tbody>\n",
       "    <tr>\n",
       "      <th>0</th>\n",
       "      <td>[{'id': '4Ga1P7PMIsmqEZqhYZQgDo', 'name': 'Lil...</td>\n",
       "      <td>190344.0</td>\n",
       "      <td>21AJQhGZpujjZQXByZAXpr</td>\n",
       "      <td>REPEAT IT (with Gunna)</td>\n",
       "      <td>71.0</td>\n",
       "      <td>Lil Tecca</td>\n",
       "    </tr>\n",
       "    <tr>\n",
       "      <th>1</th>\n",
       "      <td>[{'id': '6EPlBSH2RSiettczlz7ihV', 'name': 'Sle...</td>\n",
       "      <td>123986.0</td>\n",
       "      <td>4XvcHTUfIlWfyJTRG0aqlo</td>\n",
       "      <td>2055</td>\n",
       "      <td>84.0</td>\n",
       "      <td>Sleepy Hallow</td>\n",
       "    </tr>\n",
       "    <tr>\n",
       "      <th>2</th>\n",
       "      <td>[{'id': '1tG7s7S4sq2eFFW0QZyLbm', 'name': 'She...</td>\n",
       "      <td>180805.0</td>\n",
       "      <td>3Ho13bRS28xEvGvgW4LOFM</td>\n",
       "      <td>On Go (feat. Polo G)</td>\n",
       "      <td>74.0</td>\n",
       "      <td>Sheff G</td>\n",
       "    </tr>\n",
       "    <tr>\n",
       "      <th>3</th>\n",
       "      <td>[{'id': '6jeg7JBX9J9097esK752iR', 'name': 'Smi...</td>\n",
       "      <td>153406.0</td>\n",
       "      <td>3yaYgjEFkRw3PVjW9mV1TO</td>\n",
       "      <td>Over The Top (feat. Drake)</td>\n",
       "      <td>82.0</td>\n",
       "      <td>Smiley</td>\n",
       "    </tr>\n",
       "    <tr>\n",
       "      <th>4</th>\n",
       "      <td>[{'id': '7jVv8c5Fj3E9VhNjxT4snq', 'name': 'Lil...</td>\n",
       "      <td>212000.0</td>\n",
       "      <td>27NovPIUIRrOZoCHxABJwK</td>\n",
       "      <td>INDUSTRY BABY (feat. Jack Harlow)</td>\n",
       "      <td>95.0</td>\n",
       "      <td>Lil Nas X</td>\n",
       "    </tr>\n",
       "  </tbody>\n",
       "</table>\n",
       "</div>"
      ],
      "text/plain": [
       "                                             artists  duration_ms  \\\n",
       "0  [{'id': '4Ga1P7PMIsmqEZqhYZQgDo', 'name': 'Lil...     190344.0   \n",
       "1  [{'id': '6EPlBSH2RSiettczlz7ihV', 'name': 'Sle...     123986.0   \n",
       "2  [{'id': '1tG7s7S4sq2eFFW0QZyLbm', 'name': 'She...     180805.0   \n",
       "3  [{'id': '6jeg7JBX9J9097esK752iR', 'name': 'Smi...     153406.0   \n",
       "4  [{'id': '7jVv8c5Fj3E9VhNjxT4snq', 'name': 'Lil...     212000.0   \n",
       "\n",
       "                       id                               name  popularity  \\\n",
       "0  21AJQhGZpujjZQXByZAXpr             REPEAT IT (with Gunna)        71.0   \n",
       "1  4XvcHTUfIlWfyJTRG0aqlo                               2055        84.0   \n",
       "2  3Ho13bRS28xEvGvgW4LOFM               On Go (feat. Polo G)        74.0   \n",
       "3  3yaYgjEFkRw3PVjW9mV1TO         Over The Top (feat. Drake)        82.0   \n",
       "4  27NovPIUIRrOZoCHxABJwK  INDUSTRY BABY (feat. Jack Harlow)        95.0   \n",
       "\n",
       "     artist_name  \n",
       "0      Lil Tecca  \n",
       "1  Sleepy Hallow  \n",
       "2        Sheff G  \n",
       "3         Smiley  \n",
       "4      Lil Nas X  "
      ]
     },
     "execution_count": 6,
     "metadata": {},
     "output_type": "execute_result"
    }
   ],
   "source": [
    "# Creating a new feature with the name of the first artist\n",
    "track['artist_name'] = track['artists'].apply(lambda row : row[0]['name'])\n",
    "track.head()"
   ]
  },
  {
   "cell_type": "markdown",
   "metadata": {},
   "source": [
    "Here, we will create a loop to grab all the artists' ids that appear in all the tracks on our playlist, keeping in mind that some songs have more than one artist:"
   ]
  },
  {
   "cell_type": "code",
   "execution_count": 7,
   "metadata": {},
   "outputs": [],
   "source": [
    "artist_ids = list()\n",
    "for artists in track['artists']:\n",
    "    for artist in artists:\n",
    "        artist_ids.append(artist['id'])"
   ]
  },
  {
   "cell_type": "markdown",
   "metadata": {},
   "source": [
    "Here, we iterate over our list of ids and use our Spotify API to extract all the information for each artist associated to that each id:"
   ]
  },
  {
   "cell_type": "code",
   "execution_count": 8,
   "metadata": {},
   "outputs": [],
   "source": [
    "singers = pd.DataFrame()\n",
    "for id in artist_ids:\n",
    "    artist = spotify.artist(artist_id = id)\n",
    "    \n",
    "    singers=singers.append(artist,ignore_index=True)"
   ]
  },
  {
   "cell_type": "markdown",
   "metadata": {},
   "source": [
    "Since our dataframe contains a bunch of values we do not care about, let's select only the columns we want:"
   ]
  },
  {
   "cell_type": "code",
   "execution_count": 9,
   "metadata": {},
   "outputs": [
    {
     "data": {
      "text/html": [
       "<div>\n",
       "<style scoped>\n",
       "    .dataframe tbody tr th:only-of-type {\n",
       "        vertical-align: middle;\n",
       "    }\n",
       "\n",
       "    .dataframe tbody tr th {\n",
       "        vertical-align: top;\n",
       "    }\n",
       "\n",
       "    .dataframe thead th {\n",
       "        text-align: right;\n",
       "    }\n",
       "</style>\n",
       "<table border=\"1\" class=\"dataframe\">\n",
       "  <thead>\n",
       "    <tr style=\"text-align: right;\">\n",
       "      <th></th>\n",
       "      <th>id</th>\n",
       "      <th>name</th>\n",
       "      <th>followers</th>\n",
       "      <th>popularity</th>\n",
       "    </tr>\n",
       "  </thead>\n",
       "  <tbody>\n",
       "    <tr>\n",
       "      <th>0</th>\n",
       "      <td>4Ga1P7PMIsmqEZqhYZQgDo</td>\n",
       "      <td>Lil Tecca</td>\n",
       "      <td>{'href': None, 'total': 3996918}</td>\n",
       "      <td>83.0</td>\n",
       "    </tr>\n",
       "    <tr>\n",
       "      <th>1</th>\n",
       "      <td>2hlmm7s2ICUX0LVIhVFlZQ</td>\n",
       "      <td>Gunna</td>\n",
       "      <td>{'href': None, 'total': 3324681}</td>\n",
       "      <td>90.0</td>\n",
       "    </tr>\n",
       "    <tr>\n",
       "      <th>2</th>\n",
       "      <td>6EPlBSH2RSiettczlz7ihV</td>\n",
       "      <td>Sleepy Hallow</td>\n",
       "      <td>{'href': None, 'total': 399412}</td>\n",
       "      <td>83.0</td>\n",
       "    </tr>\n",
       "    <tr>\n",
       "      <th>3</th>\n",
       "      <td>1tG7s7S4sq2eFFW0QZyLbm</td>\n",
       "      <td>Sheff G</td>\n",
       "      <td>{'href': None, 'total': 425708}</td>\n",
       "      <td>77.0</td>\n",
       "    </tr>\n",
       "    <tr>\n",
       "      <th>4</th>\n",
       "      <td>6AgTAQt8XS6jRWi4sX7w49</td>\n",
       "      <td>Polo G</td>\n",
       "      <td>{'href': None, 'total': 4808778}</td>\n",
       "      <td>93.0</td>\n",
       "    </tr>\n",
       "    <tr>\n",
       "      <th>...</th>\n",
       "      <td>...</td>\n",
       "      <td>...</td>\n",
       "      <td>...</td>\n",
       "      <td>...</td>\n",
       "    </tr>\n",
       "    <tr>\n",
       "      <th>98</th>\n",
       "      <td>6aaMZ3fcfLv4tEbmY7bjRM</td>\n",
       "      <td>Isaiah Rashad</td>\n",
       "      <td>{'href': None, 'total': 943802}</td>\n",
       "      <td>80.0</td>\n",
       "    </tr>\n",
       "    <tr>\n",
       "      <th>99</th>\n",
       "      <td>4O15NlyKLIASxsJ0PrXPfz</td>\n",
       "      <td>Lil Uzi Vert</td>\n",
       "      <td>{'href': None, 'total': 11798270}</td>\n",
       "      <td>91.0</td>\n",
       "    </tr>\n",
       "    <tr>\n",
       "      <th>100</th>\n",
       "      <td>65smG2lgnRmrDB8g7z1hG0</td>\n",
       "      <td>Paper Route EMPIRE</td>\n",
       "      <td>{'href': None, 'total': 1990}</td>\n",
       "      <td>65.0</td>\n",
       "    </tr>\n",
       "    <tr>\n",
       "      <th>101</th>\n",
       "      <td>0RESbWvOMyua0yuyVrztJ5</td>\n",
       "      <td>Key Glock</td>\n",
       "      <td>{'href': None, 'total': 901802}</td>\n",
       "      <td>76.0</td>\n",
       "    </tr>\n",
       "    <tr>\n",
       "      <th>102</th>\n",
       "      <td>13y7CgLHjMVRMDqxdx0Xdo</td>\n",
       "      <td>Gucci Mane</td>\n",
       "      <td>{'href': None, 'total': 3920915}</td>\n",
       "      <td>83.0</td>\n",
       "    </tr>\n",
       "  </tbody>\n",
       "</table>\n",
       "<p>103 rows × 4 columns</p>\n",
       "</div>"
      ],
      "text/plain": [
       "                         id                name  \\\n",
       "0    4Ga1P7PMIsmqEZqhYZQgDo           Lil Tecca   \n",
       "1    2hlmm7s2ICUX0LVIhVFlZQ               Gunna   \n",
       "2    6EPlBSH2RSiettczlz7ihV       Sleepy Hallow   \n",
       "3    1tG7s7S4sq2eFFW0QZyLbm             Sheff G   \n",
       "4    6AgTAQt8XS6jRWi4sX7w49              Polo G   \n",
       "..                      ...                 ...   \n",
       "98   6aaMZ3fcfLv4tEbmY7bjRM       Isaiah Rashad   \n",
       "99   4O15NlyKLIASxsJ0PrXPfz        Lil Uzi Vert   \n",
       "100  65smG2lgnRmrDB8g7z1hG0  Paper Route EMPIRE   \n",
       "101  0RESbWvOMyua0yuyVrztJ5           Key Glock   \n",
       "102  13y7CgLHjMVRMDqxdx0Xdo          Gucci Mane   \n",
       "\n",
       "                             followers  popularity  \n",
       "0     {'href': None, 'total': 3996918}        83.0  \n",
       "1     {'href': None, 'total': 3324681}        90.0  \n",
       "2      {'href': None, 'total': 399412}        83.0  \n",
       "3      {'href': None, 'total': 425708}        77.0  \n",
       "4     {'href': None, 'total': 4808778}        93.0  \n",
       "..                                 ...         ...  \n",
       "98     {'href': None, 'total': 943802}        80.0  \n",
       "99   {'href': None, 'total': 11798270}        91.0  \n",
       "100      {'href': None, 'total': 1990}        65.0  \n",
       "101    {'href': None, 'total': 901802}        76.0  \n",
       "102   {'href': None, 'total': 3920915}        83.0  \n",
       "\n",
       "[103 rows x 4 columns]"
      ]
     },
     "execution_count": 9,
     "metadata": {},
     "output_type": "execute_result"
    }
   ],
   "source": [
    "singers = singers[['id','name','followers','popularity']]\n",
    "singers"
   ]
  },
  {
   "cell_type": "markdown",
   "metadata": {},
   "source": [
    "Our variable `followers` needs to be fixed:"
   ]
  },
  {
   "cell_type": "code",
   "execution_count": 10,
   "metadata": {},
   "outputs": [
    {
     "data": {
      "text/html": [
       "<div>\n",
       "<style scoped>\n",
       "    .dataframe tbody tr th:only-of-type {\n",
       "        vertical-align: middle;\n",
       "    }\n",
       "\n",
       "    .dataframe tbody tr th {\n",
       "        vertical-align: top;\n",
       "    }\n",
       "\n",
       "    .dataframe thead th {\n",
       "        text-align: right;\n",
       "    }\n",
       "</style>\n",
       "<table border=\"1\" class=\"dataframe\">\n",
       "  <thead>\n",
       "    <tr style=\"text-align: right;\">\n",
       "      <th></th>\n",
       "      <th>id</th>\n",
       "      <th>name</th>\n",
       "      <th>followers</th>\n",
       "      <th>popularity</th>\n",
       "    </tr>\n",
       "  </thead>\n",
       "  <tbody>\n",
       "    <tr>\n",
       "      <th>0</th>\n",
       "      <td>4Ga1P7PMIsmqEZqhYZQgDo</td>\n",
       "      <td>Lil Tecca</td>\n",
       "      <td>3996918</td>\n",
       "      <td>83.0</td>\n",
       "    </tr>\n",
       "    <tr>\n",
       "      <th>1</th>\n",
       "      <td>2hlmm7s2ICUX0LVIhVFlZQ</td>\n",
       "      <td>Gunna</td>\n",
       "      <td>3324681</td>\n",
       "      <td>90.0</td>\n",
       "    </tr>\n",
       "    <tr>\n",
       "      <th>2</th>\n",
       "      <td>6EPlBSH2RSiettczlz7ihV</td>\n",
       "      <td>Sleepy Hallow</td>\n",
       "      <td>399412</td>\n",
       "      <td>83.0</td>\n",
       "    </tr>\n",
       "    <tr>\n",
       "      <th>3</th>\n",
       "      <td>1tG7s7S4sq2eFFW0QZyLbm</td>\n",
       "      <td>Sheff G</td>\n",
       "      <td>425708</td>\n",
       "      <td>77.0</td>\n",
       "    </tr>\n",
       "    <tr>\n",
       "      <th>4</th>\n",
       "      <td>6AgTAQt8XS6jRWi4sX7w49</td>\n",
       "      <td>Polo G</td>\n",
       "      <td>4808778</td>\n",
       "      <td>93.0</td>\n",
       "    </tr>\n",
       "  </tbody>\n",
       "</table>\n",
       "</div>"
      ],
      "text/plain": [
       "                       id           name  followers  popularity\n",
       "0  4Ga1P7PMIsmqEZqhYZQgDo      Lil Tecca    3996918        83.0\n",
       "1  2hlmm7s2ICUX0LVIhVFlZQ          Gunna    3324681        90.0\n",
       "2  6EPlBSH2RSiettczlz7ihV  Sleepy Hallow     399412        83.0\n",
       "3  1tG7s7S4sq2eFFW0QZyLbm        Sheff G     425708        77.0\n",
       "4  6AgTAQt8XS6jRWi4sX7w49         Polo G    4808778        93.0"
      ]
     },
     "execution_count": 10,
     "metadata": {},
     "output_type": "execute_result"
    }
   ],
   "source": [
    "singers['followers'] = singers['followers'].apply(lambda row : row['total'])\n",
    "singers.head()"
   ]
  },
  {
   "cell_type": "markdown",
   "metadata": {},
   "source": [
    "Check for duplicates:"
   ]
  },
  {
   "cell_type": "code",
   "execution_count": 11,
   "metadata": {},
   "outputs": [
    {
     "data": {
      "text/html": [
       "<div>\n",
       "<style scoped>\n",
       "    .dataframe tbody tr th:only-of-type {\n",
       "        vertical-align: middle;\n",
       "    }\n",
       "\n",
       "    .dataframe tbody tr th {\n",
       "        vertical-align: top;\n",
       "    }\n",
       "\n",
       "    .dataframe thead th {\n",
       "        text-align: right;\n",
       "    }\n",
       "</style>\n",
       "<table border=\"1\" class=\"dataframe\">\n",
       "  <thead>\n",
       "    <tr style=\"text-align: right;\">\n",
       "      <th></th>\n",
       "      <th>id</th>\n",
       "      <th>name</th>\n",
       "      <th>followers</th>\n",
       "      <th>popularity</th>\n",
       "    </tr>\n",
       "  </thead>\n",
       "  <tbody>\n",
       "    <tr>\n",
       "      <th>14</th>\n",
       "      <td>6AgTAQt8XS6jRWi4sX7w49</td>\n",
       "      <td>Polo G</td>\n",
       "      <td>4808778</td>\n",
       "      <td>93.0</td>\n",
       "    </tr>\n",
       "    <tr>\n",
       "      <th>16</th>\n",
       "      <td>2LIk90788K0zvyj2JJVwkJ</td>\n",
       "      <td>Jack Harlow</td>\n",
       "      <td>1038620</td>\n",
       "      <td>88.0</td>\n",
       "    </tr>\n",
       "    <tr>\n",
       "      <th>22</th>\n",
       "      <td>5f7VJjfbwm532GiveGC0ZK</td>\n",
       "      <td>Lil Baby</td>\n",
       "      <td>7772579</td>\n",
       "      <td>94.0</td>\n",
       "    </tr>\n",
       "    <tr>\n",
       "      <th>23</th>\n",
       "      <td>3hcs9uc56yIGFCSy9leWe7</td>\n",
       "      <td>Lil Durk</td>\n",
       "      <td>2812403</td>\n",
       "      <td>89.0</td>\n",
       "    </tr>\n",
       "    <tr>\n",
       "      <th>25</th>\n",
       "      <td>2hlmm7s2ICUX0LVIhVFlZQ</td>\n",
       "      <td>Gunna</td>\n",
       "      <td>3324681</td>\n",
       "      <td>90.0</td>\n",
       "    </tr>\n",
       "  </tbody>\n",
       "</table>\n",
       "</div>"
      ],
      "text/plain": [
       "                        id         name  followers  popularity\n",
       "14  6AgTAQt8XS6jRWi4sX7w49       Polo G    4808778        93.0\n",
       "16  2LIk90788K0zvyj2JJVwkJ  Jack Harlow    1038620        88.0\n",
       "22  5f7VJjfbwm532GiveGC0ZK     Lil Baby    7772579        94.0\n",
       "23  3hcs9uc56yIGFCSy9leWe7     Lil Durk    2812403        89.0\n",
       "25  2hlmm7s2ICUX0LVIhVFlZQ        Gunna    3324681        90.0"
      ]
     },
     "execution_count": 11,
     "metadata": {},
     "output_type": "execute_result"
    }
   ],
   "source": [
    "singers[singers.duplicated()].head()"
   ]
  },
  {
   "cell_type": "markdown",
   "metadata": {},
   "source": [
    "Drop duplicates:"
   ]
  },
  {
   "cell_type": "code",
   "execution_count": 12,
   "metadata": {},
   "outputs": [],
   "source": [
    "singers.drop_duplicates(inplace=True)"
   ]
  },
  {
   "cell_type": "code",
   "execution_count": 13,
   "metadata": {},
   "outputs": [],
   "source": [
    "# Pipeline to accomplish the same thing we have accomplished above\n",
    "def get_tracks(id):\n",
    "    playlist = spotify.playlist_tracks(playlist_id= id,fields='items(track(id,name,popularity,duration_ms,artists(name,id)))')\n",
    "    track =pd.DataFrame()\n",
    "    for song in playlist['items']:\n",
    "        track = track.append(song['track'],ignore_index=True)\n",
    "        track['artist_name'] = track['artists'].apply(lambda row : row[0]['name'])\n",
    "        artist_ids = list()\n",
    "    for artists in track['artists']:\n",
    "        for artist in artists:\n",
    "            artist_ids.append(artist['id'])\n",
    "    singers = pd.DataFrame()\n",
    "    for ids in artist_ids:\n",
    "        artist = spotify.artist(artist_id = ids)\n",
    "        singers=singers.append(artist,ignore_index=True)\n",
    "        singers = singers[['id','name','followers','popularity']]\n",
    "        singers.drop_duplicates(inplace=True)\n",
    "    return track, singers"
   ]
  },
  {
   "cell_type": "markdown",
   "metadata": {},
   "source": [
    "# Creating Database"
   ]
  },
  {
   "cell_type": "code",
   "execution_count": 14,
   "metadata": {},
   "outputs": [],
   "source": [
    "import sqlite3"
   ]
  },
  {
   "cell_type": "code",
   "execution_count": 15,
   "metadata": {},
   "outputs": [],
   "source": [
    "con = sqlite3.connect('spotify.db')\n",
    "cur = con.cursor()\n",
    "\n",
    "# Create table tracks\n",
    "cur.execute('''CREATE TABLE IF NOT EXISTS tracks\n",
    "               (name VARCHAR, popularity INTEGER, duration_ms INTEGER, artist_name VARCHAR)''')\n",
    "\n",
    "\n",
    "# Insert a row of data into tracks\n",
    "track[['name','popularity', 'duration_ms', 'artist_name']].to_sql(name='tracks', con=con, if_exists='append', index=False)\n",
    "\n",
    "\n",
    "# Create table artists\n",
    "cur.execute('''CREATE TABLE IF NOT EXISTS artists\n",
    "                 (id VARCHAR, name VARCHAR, popularity INTEGER, followers INTEGER)''')\n",
    "\n",
    "# Insert a row of data into artists\n",
    "singers[['id','name','popularity', 'followers']].to_sql(name='artists', con=con, if_exists='append', index=False)\n",
    "\n",
    "\n",
    "con.commit()"
   ]
  },
  {
   "cell_type": "code",
   "execution_count": 16,
   "metadata": {},
   "outputs": [],
   "source": [
    "# Pipeline to upload data to sql database. If we wanted to change or add more variables, we'd need to add them. \n",
    "def sql_upload(track, singers):\n",
    "    con = sqlite3.connect('spotify.db')\n",
    "    cur = con.cursor()\n",
    "\n",
    "    # Create table tracks\n",
    "    cur.execute('''CREATE TABLE IF NOT EXISTS tracks\n",
    "                   (name VARCHAR, popularity INTEGER, duration_ms INTEGER, artist_name VARCHAR)''')\n",
    "\n",
    "\n",
    "    # Insert a row of data into tracks\n",
    "    track[['name','popularity', 'duration_ms', 'artist_name']].to_sql(name='tracks', con=con, if_exists='append', index=False)\n",
    "\n",
    "\n",
    "    # Create table artists\n",
    "    cur.execute('''CREATE TABLE IF NOT EXISTS artists\n",
    "                     (id VARCHAR, name VARCHAR, popularity INTEGER, followers INTEGER)''')\n",
    "\n",
    "    # Insert a row of data into artists\n",
    "    singers[['id','name','popularity', 'followers']].to_sql(name='artists', con=con, if_exists='append', index=False)\n",
    "\n",
    "\n",
    "    con.commit()\n",
    "    con.close()"
   ]
  },
  {
   "cell_type": "markdown",
   "metadata": {},
   "source": [
    "# Analysis\n",
    "Basic questions:\n",
    "- How many songs are in the playlist?\n"
   ]
  },
  {
   "cell_type": "code",
   "execution_count": 17,
   "metadata": {},
   "outputs": [
    {
     "name": "stdout",
     "output_type": "stream",
     "text": [
      "There are 50 songs in the playlist\n"
     ]
    }
   ],
   "source": [
    "print(f'There are {len(track)} songs in the playlist')"
   ]
  },
  {
   "cell_type": "code",
   "execution_count": 18,
   "metadata": {},
   "outputs": [
    {
     "name": "stdout",
     "output_type": "stream",
     "text": [
      "There are [(50,)] songs in the playlist\n"
     ]
    }
   ],
   "source": [
    "# Reading directly from database:\n",
    "print(f\"There are {cur.execute('select count(*) from tracks').fetchall()} songs in the playlist\")"
   ]
  },
  {
   "cell_type": "markdown",
   "metadata": {},
   "source": [
    "- What are the top 5 tracks by artist follower count?"
   ]
  },
  {
   "cell_type": "code",
   "execution_count": 19,
   "metadata": {},
   "outputs": [
    {
     "data": {
      "text/plain": [
       "['Motley Crew',\n",
       " 'Wants and Needs (feat. Lil Baby)',\n",
       " 'm y . l i f e (with 21 Savage & Morray)',\n",
       " 'Having Our Way (feat. Drake)',\n",
       " 'Modern Day']"
      ]
     },
     "execution_count": 19,
     "metadata": {},
     "output_type": "execute_result"
    }
   ],
   "source": [
    "# I am not sure I understand this question. What happens if the same artist has more than one song? Should it consider popularity? Also, there are artists that are in a song, but they don't have a song of their own\n",
    "# (since I took the first artist name from each track)\n",
    "# I will approach this question as follows: I will find the top 5 artists that are present in the tracks table based on follower count, and from those 5, I will find the top 5 songs of said artists based on popularity.\n",
    "#This might return more than one song for the same artist.\n",
    "\n",
    "track[track.artist_name.isin(singers[singers.name.isin(track.artist_name.tolist())].sort_values(by='followers',ascending=False).name.head(5).tolist())].sort_values(by='popularity', ascending=False).name.head(5).tolist()"
   ]
  },
  {
   "cell_type": "code",
   "execution_count": 20,
   "metadata": {},
   "outputs": [
    {
     "name": "stdout",
     "output_type": "stream",
     "text": [
      "[('Motley Crew',), ('Wants and Needs (feat. Lil Baby)',), ('m y . l i f e (with 21 Savage & Morray)',), ('Having Our Way (feat. Drake)',), ('Modern Day',)]\n"
     ]
    }
   ],
   "source": [
    "# Reading directly from database\n",
    "print(cur.execute('SELECT name from tracks WHERE artist_name IN (Select name FROM artists WHERE name IN (SELECT artist_name FROM tracks) ORDER BY followers DESC LIMIT 5) ORDER BY popularity DESC LIMIT 5').fetchall())"
   ]
  },
  {
   "cell_type": "markdown",
   "metadata": {},
   "source": [
    "- Which song is the longest?\n"
   ]
  },
  {
   "cell_type": "code",
   "execution_count": 21,
   "metadata": {},
   "outputs": [
    {
     "data": {
      "text/plain": [
       "['Seeing Green (with Drake & Lil Wayne)']"
      ]
     },
     "execution_count": 21,
     "metadata": {},
     "output_type": "execute_result"
    }
   ],
   "source": [
    "track.sort_values(by='duration_ms', ascending=False).name.head(1).tolist()"
   ]
  },
  {
   "cell_type": "code",
   "execution_count": 22,
   "metadata": {},
   "outputs": [
    {
     "name": "stdout",
     "output_type": "stream",
     "text": [
      "[('Seeing Green (with Drake & Lil Wayne)',)]\n"
     ]
    }
   ],
   "source": [
    "# Reading directly from database\n",
    "print(cur.execute('SELECT name FROM tracks ORDER BY duration_ms DESC LIMIT 1').fetchall())"
   ]
  },
  {
   "cell_type": "markdown",
   "metadata": {},
   "source": [
    "- What is the relationship between track and artist popularity?"
   ]
  },
  {
   "cell_type": "code",
   "execution_count": 23,
   "metadata": {},
   "outputs": [],
   "source": [
    "df = pd.read_sql_query(\"SELECT t.name, t.artist_name, t.popularity, a.followers, a.popularity as artist_popularity FROM tracks as t INNER JOIN artists as a ON a.name = t.artist_name\", con)"
   ]
  },
  {
   "cell_type": "code",
   "execution_count": 24,
   "metadata": {},
   "outputs": [
    {
     "data": {
      "image/png": "[encoded data removed]",
      "text/plain": [
       "<Figure size 432x288 with 1 Axes>"
      ]
     },
     "metadata": {
      "needs_background": "light"
     },
     "output_type": "display_data"
    }
   ],
   "source": [
    "import seaborn as sns\n",
    "sns.lineplot(data=df, y=df.artist_popularity, x=df.popularity).set_title('Followers/Popularity relationship');"
   ]
  },
  {
   "cell_type": "code",
   "execution_count": 25,
   "metadata": {},
   "outputs": [
    {
     "data": {
      "text/html": [
       "<div>\n",
       "<style scoped>\n",
       "    .dataframe tbody tr th:only-of-type {\n",
       "        vertical-align: middle;\n",
       "    }\n",
       "\n",
       "    .dataframe tbody tr th {\n",
       "        vertical-align: top;\n",
       "    }\n",
       "\n",
       "    .dataframe thead th {\n",
       "        text-align: right;\n",
       "    }\n",
       "</style>\n",
       "<table border=\"1\" class=\"dataframe\">\n",
       "  <thead>\n",
       "    <tr style=\"text-align: right;\">\n",
       "      <th></th>\n",
       "      <th>popularity</th>\n",
       "      <th>followers</th>\n",
       "      <th>artist_popularity</th>\n",
       "    </tr>\n",
       "  </thead>\n",
       "  <tbody>\n",
       "    <tr>\n",
       "      <th>popularity</th>\n",
       "      <td>1.000000</td>\n",
       "      <td>0.297221</td>\n",
       "      <td>0.438104</td>\n",
       "    </tr>\n",
       "    <tr>\n",
       "      <th>followers</th>\n",
       "      <td>0.297221</td>\n",
       "      <td>1.000000</td>\n",
       "      <td>0.504729</td>\n",
       "    </tr>\n",
       "    <tr>\n",
       "      <th>artist_popularity</th>\n",
       "      <td>0.438104</td>\n",
       "      <td>0.504729</td>\n",
       "      <td>1.000000</td>\n",
       "    </tr>\n",
       "  </tbody>\n",
       "</table>\n",
       "</div>"
      ],
      "text/plain": [
       "                   popularity  followers  artist_popularity\n",
       "popularity           1.000000   0.297221           0.438104\n",
       "followers            0.297221   1.000000           0.504729\n",
       "artist_popularity    0.438104   0.504729           1.000000"
      ]
     },
     "execution_count": 25,
     "metadata": {},
     "output_type": "execute_result"
    }
   ],
   "source": [
    "# Pearson correlation\n",
    "df.corr()"
   ]
  },
  {
   "cell_type": "markdown",
   "metadata": {},
   "source": [
    "We see some correlation between a popularity of a song and the popularity of a singer. I believe this is due to the fact that we took the first name from songs where there were more than one artists. The popularity of one song might be directly correlated to the second person that might be more famous. This can be solved by linking the name of the singer with the most followers to any song they have been a part of, this way we would always have the most popular singer associated to a song."
   ]
  },
  {
   "cell_type": "markdown",
   "metadata": {},
   "source": [
    "Extra questions:\n",
    "\n",
    "Due to traveling, I will not have time to answer these questions, but I will attempt to describe how I would tackle them:\n",
    "- Add additional fields to the tables of your choosing\n",
    "    - The fields I would add are: \n",
    "        - For tracks: release_date (I would expect to see a relationship with popularity, we will see how time affects its rating), number_of_markets (here we could see if there is any relationship with the popularity of a song based on how many countries the song is available. We could also see if an artist's follower count is affected by this as well), number_of_artists (here we could see if having more than one artist in the song affects its popularity). \n",
    "        - For artists: genres (here we could get a rough idea of the popularity of each genre based on the artist's popularity), number_of_genres (here we could see if the number of genres is correlated to the number of followers and/or popularity)\n",
    "- Pick another playlist and add to the track and artist tables.\n",
    "    - Here I would find more playlist ids and run it through the pipeline, appending it to the existing dataframes containing our rap_caviar data. Our pipeline would make this extremily easy. Most likely I would have picked Salsa playlists, since that's all I listen to.\n",
    "- Compare features across playlists\n",
    "  - I would compare popularity of songs and artists based on their genres, keeping in mind the number of countries these songs are available. I would also like to see how popular artists from back in the day are regarded nowadays.\n",
    "- What features are predictive of track popularity?\n",
    " - To answer this I would have to actually work on what I have stated above. I believe looking at the pearson correlation of all numeric variables against track popularity will tell us what are the variables that determine it's popularity. Without doing it, I can only speculate.\n",
    " \n",
    "I can happily adress these questions when I return on August 16th\n"
   ]
  },
  {
   "cell_type": "code",
   "execution_count": 26,
   "metadata": {},
   "outputs": [],
   "source": [
    "con.close()"
   ]
  }
 ],
 "metadata": {
  "kernelspec": {
   "display_name": "Python 3",
   "language": "python",
   "name": "python3"
  },
  "language_info": {
   "codemirror_mode": {
    "name": "ipython",
    "version": 3
   },
   "file_extension": ".py",
   "mimetype": "text/x-python",
   "name": "python",
   "nbconvert_exporter": "python",
   "pygments_lexer": "ipython3",
   "version": "3.8.3"
  }
 },
 "nbformat": 4,
 "nbformat_minor": 4
}
